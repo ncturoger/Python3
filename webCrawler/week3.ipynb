{
 "cells": [
  {
   "cell_type": "code",
   "execution_count": null,
   "metadata": {},
   "outputs": [],
   "source": [
    "# 載入所需模組\n",
    "from bs4 import BeautifulSoup\n",
    "import requests\n"
   ]
  },
  {
   "cell_type": "code",
   "execution_count": null,
   "metadata": {},
   "outputs": [],
   "source": [
    "# 設定要爬的網站網址\n",
    "target_url = \"https://www.ey.gov.tw/Page/6485009ABEC1CB9C\"\n",
    "\n",
    "# 使用requests發布請求\n",
    "response = requests.get(target_url)\n",
    "print(response.text)\n"
   ]
  },
  {
   "cell_type": "code",
   "execution_count": null,
   "metadata": {},
   "outputs": [],
   "source": [
    "\n",
    "\n",
    "# 將網站回傳內容和html剖析器作為參數，宣告一個soup物件\n",
    "soup = BeautifulSoup(response.text, 'html.parser')\n",
    "\n",
    "# 讓BeautifulSoup根據html語法形式對內容進行排版\n",
    "print(soup.prettify())\n",
    "\n"
   ]
  },
  {
   "cell_type": "code",
   "execution_count": null,
   "metadata": {},
   "outputs": [],
   "source": [
    "# print(soup.title)\n",
    "# print(soup.title.string)\n",
    "print(soup.head)\n",
    "# print(soup.html.body.h1)"
   ]
  },
  {
   "cell_type": "code",
   "execution_count": null,
   "metadata": {},
   "outputs": [],
   "source": [
    "# 印出網頁標題\n",
    "# print(soup.title)\n",
    "\n",
    "# 找出第一個屬性為title的div標籤\n",
    "# post = soup.find('div', {\"class\":\"title\"})\n",
    "# date = soup.find('span', {\"class\":\"date\"})\n",
    "# print(date)\n",
    "\n",
    "# 找出所有屬性為title的div標籤\n",
    "post_list = soup.find_all('div', {\"class\":\"title\"})\n",
    "# print(post_list)\n",
    "for post in post_list:\n",
    "    print(post.string)"
   ]
  },
  {
   "cell_type": "code",
   "execution_count": null,
   "metadata": {},
   "outputs": [],
   "source": [
    "# 使用for迴圈創造一組1~10的i值\n",
    "for i in range(1, 11):\n",
    "    \n",
    "#     每一個迴圈都根據當時的i值設置頁數參數\n",
    "    target_url = \"https://www.ey.gov.tw/Page/6485009ABEC1CB9C?page=\" + str(i)\n",
    "    response = requests.get(target_url)\n",
    "    \n",
    "    soup = BeautifulSoup(response.text, 'html.parser')\n",
    "    post_list = soup.find_all('div', {\"class\":\"title\"})\n",
    "\n",
    "    for post in post_list:\n",
    "        print(post.string)\n",
    "\n",
    "    \n",
    "    "
   ]
  },
  {
   "cell_type": "code",
   "execution_count": null,
   "metadata": {
    "scrolled": true
   },
   "outputs": [],
   "source": [
    "# 爬出所有新聞連結\n",
    "from urllib.parse import urljoin\n",
    "posts = soup.find_all('div', {\"class\":\"news_box pdf_box\"})\n",
    "for p in posts:\n",
    "    link = p.find('a').get('href')\n",
    "    print(urljoin(target_url, link))"
   ]
  },
  {
   "cell_type": "code",
   "execution_count": null,
   "metadata": {},
   "outputs": [],
   "source": [
    "# 爬取聯合新聞網新聞標題\n",
    "target_url = \"https://udn.com/news/breaknews/1/1\"\n",
    "response = requests.get(target_url)\n",
    "\n",
    "soup = BeautifulSoup(response.text, 'html.parser')\n",
    "# print(soup.prettify())\n",
    "post_list = soup.find_all('h2')\n",
    "# print(post_list)\n",
    "\n",
    "\n",
    "for post in post_list:\n",
    "    c = post.find(['a'])\n",
    "#     當標題文字不為空字串的時候，印出標題內容\n",
    "    if c:\n",
    "        print(c.string)"
   ]
  },
  {
   "cell_type": "code",
   "execution_count": null,
   "metadata": {},
   "outputs": [],
   "source": []
  }
 ],
 "metadata": {
  "kernelspec": {
   "display_name": "Python 3",
   "language": "python",
   "name": "python3"
  },
  "language_info": {
   "codemirror_mode": {
    "name": "ipython",
    "version": 3
   },
   "file_extension": ".py",
   "mimetype": "text/x-python",
   "name": "python",
   "nbconvert_exporter": "python",
   "pygments_lexer": "ipython3",
   "version": "3.7.0"
  }
 },
 "nbformat": 4,
 "nbformat_minor": 2
}
