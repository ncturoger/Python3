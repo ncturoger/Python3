{
 "cells": [
  {
   "cell_type": "code",
   "execution_count": null,
   "metadata": {},
   "outputs": [],
   "source": [
    "# 爬取10頁與韓國瑜有關的PTT標題與文章內容，並輸出成文件檔\n",
    "import requests\n",
    "from bs4 import BeautifulSoup\n",
    "\n",
    "from urllib.parse import urljoin\n",
    "base_url = 'https://www.ptt.cc/bbs/Gossiping/'\n",
    "\n",
    "for page in range(1, 11):\n",
    "#     搜尋條件與頁數作為參數加進url後，使用requests.get取得內容\n",
    "    res = requests.get('https://www.ptt.cc/bbs/Gossiping/search?q=韓國瑜&page={}'.format(page))\n",
    "    soup = BeautifulSoup(res.text, 'html.parser')\n",
    "    \n",
    "#     自動填寫滿18歲\n",
    "    res = requests.post(res.url, data={'yes': 'yes'})\n",
    "\n",
    "#     定義輸出的標題\n",
    "    output_content = [['title', 'content']]\n",
    "    soup = BeautifulSoup(res.text, 'html.parser')\n",
    "    for post in soup.find_all('div', {\"class\": \"title\"}):\n",
    "        print(post.a.string)\n",
    "        if post.a:\n",
    "#             取得文章標題\n",
    "            post_title = post.a.string\n",
    "            post_url = urljoin(base_url, post.a['href'])\n",
    "            res = requests.get(post_url)\n",
    "            res = requests.post(res.url, data={'yes': 'yes'})\n",
    "            soup = BeautifulSoup(res.text, 'html.parser')\n",
    "#             爬取文章內容\n",
    "            content = soup.find('div', {'id': 'main-container'})\n",
    "            cleaned_content = ''.join(content.text.split('\\n\\n')[1:]).split('--')[0]\n",
    "#         將文章標題與內容放進輸出列表中\n",
    "            output_content.append([post_title, cleaned_content])"
   ]
  },
  {
   "cell_type": "code",
   "execution_count": null,
   "metadata": {},
   "outputs": [],
   "source": [
    "# 將爬取的PTT標題輸出成CSV\n",
    "import csv\n",
    "with open('ptt_titile.csv', 'w', encoding='utf-8-sig') as content:\n",
    "    writer = csv.writer(content)\n",
    "    writer.writerows(output_content)"
   ]
  },
  {
   "cell_type": "code",
   "execution_count": null,
   "metadata": {},
   "outputs": [],
   "source": [
    "# 爬取中時軍事版圖片\n",
    "import requests\n",
    "from bs4 import BeautifulSoup\n",
    "\n",
    "from urllib.parse import urljoin\n",
    "\n",
    "url = 'https://www.chinatimes.com/armament/total?page=1'\n",
    "r = requests.get(url)\n",
    "# print(r.text)\n",
    "soup = BeautifulSoup(r.text, 'html.parser')\n",
    "print(soup.prettify())\n"
   ]
  },
  {
   "cell_type": "code",
   "execution_count": null,
   "metadata": {},
   "outputs": [],
   "source": [
    "# 創立名為軍事的資料夾，將圖片爬取下來存於該資料夾中\n",
    "import os\n",
    "dir_path = \"軍事\"\n",
    "if not os.path.exists(dir_path):\n",
    "    os.mkdir(dir_path)\n",
    "\n",
    "count = 0\n",
    "for img_tag in soup.find_all('img', {'class': 'photo'}):\n",
    "    img_data = requests.get(urljoin(url, img_tag['src'])).content\n",
    "    img_name = \"image{}.jpg\".format(count)\n",
    "    \n",
    "    with open(os.path.join(dir_path, img_name), 'wb') as img:\n",
    "        img.write(img_data)\n",
    "    count += 1\n",
    "    print(\"{} images downloaded\".format(count))"
   ]
  },
  {
   "cell_type": "code",
   "execution_count": null,
   "metadata": {},
   "outputs": [],
   "source": []
  },
  {
   "cell_type": "code",
   "execution_count": null,
   "metadata": {},
   "outputs": [],
   "source": [
    "# 爬取ETODAY軍事版圖片\n",
    "import requests\n",
    "from bs4 import BeautifulSoup\n",
    "\n",
    "from urllib.parse import urljoin\n",
    "\n",
    "import os\n",
    "dir_path = \"ETODAY軍事\"\n",
    "\n",
    "# 如果沒有名為ETODAY軍事的資料夾，就創立一個\n",
    "if not os.path.exists(dir_path):\n",
    "    os.mkdir(dir_path)\n",
    "\n",
    "\n",
    "url = 'https://www.ettoday.net/news/focus/%E8%BB%8D%E6%AD%A6/'\n",
    "r = requests.get(url)\n",
    "soup = BeautifulSoup(r.text, 'html.parser')\n",
    "# 定義下載圖片張數的計數器\n",
    "count = 0\n",
    "\n",
    "# 爬取每一篇新聞所在的tag\n",
    "for post in soup.find_all('div', {'class': 'piece clearfix'}):\n",
    "#     爬取每一篇新聞tag的標題\n",
    "    title = post.find('h3').string\n",
    "#     爬取每一篇新聞圖片的連結\n",
    "    image_link = post.find('img').get('data-original')\n",
    "    \n",
    "#     如果有圖片連結，就將它的host拼接上，並載下來\n",
    "    if image_link:\n",
    "        image_url = urljoin(url, image_link)\n",
    "        \n",
    "        img_data = requests.get(image_url).content\n",
    "#         圖片檔依照文章標題名取名\n",
    "        img_name = \"{}.jpg\".format(title)\n",
    "        \n",
    "        with open(os.path.join(dir_path, img_name), 'wb') as img:\n",
    "            img.write(img_data)\n",
    "        \n",
    "        count += 1\n",
    "        print(\"{} images downloaded\".format(count))"
   ]
  },
  {
   "cell_type": "code",
   "execution_count": null,
   "metadata": {},
   "outputs": [],
   "source": []
  }
 ],
 "metadata": {
  "kernelspec": {
   "display_name": "Python 3",
   "language": "python",
   "name": "python3"
  },
  "language_info": {
   "codemirror_mode": {
    "name": "ipython",
    "version": 3
   },
   "file_extension": ".py",
   "mimetype": "text/x-python",
   "name": "python",
   "nbconvert_exporter": "python",
   "pygments_lexer": "ipython3",
   "version": "3.7.0"
  }
 },
 "nbformat": 4,
 "nbformat_minor": 2
}
